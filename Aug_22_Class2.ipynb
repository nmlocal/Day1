{
  "nbformat": 4,
  "nbformat_minor": 0,
  "metadata": {
    "colab": {
      "provenance": [],
      "authorship_tag": "ABX9TyME0S1uxKB/cS/I642r7Q6z",
      "include_colab_link": true
    },
    "kernelspec": {
      "name": "python3",
      "display_name": "Python 3"
    },
    "language_info": {
      "name": "python"
    }
  },
  "cells": [
    {
      "cell_type": "markdown",
      "metadata": {
        "id": "view-in-github",
        "colab_type": "text"
      },
      "source": [
        "<a href=\"https://colab.research.google.com/github/nmlocal/Day1/blob/main/Aug_22_Class2.ipynb\" target=\"_parent\"><img src=\"https://colab.research.google.com/assets/colab-badge.svg\" alt=\"Open In Colab\"/></a>"
      ]
    },
    {
      "cell_type": "code",
      "execution_count": null,
      "metadata": {
        "id": "dXaHh9PVC9fG"
      },
      "outputs": [],
      "source": []
    },
    {
      "cell_type": "markdown",
      "source": [
        "# Conditional Statement"
      ],
      "metadata": {
        "id": "NNEeC4TzDvQr"
      }
    },
    {
      "cell_type": "code",
      "source": [
        "##Comparator##\n",
        "age = input(\"Enter your age :\")\n",
        "age=int(age)\n",
        "if age>=18:\n",
        " print(\"Above 18 eligible for driving license\")\n",
        "else:\n",
        " print(\"You are minor\")\n"
      ],
      "metadata": {
        "colab": {
          "base_uri": "https://localhost:8080/"
        },
        "id": "4Gta3R5bDzHI",
        "outputId": "9dcd08c1-22ae-4813-b852-2f6ba2cf4dfb"
      },
      "execution_count": 13,
      "outputs": [
        {
          "output_type": "stream",
          "name": "stdout",
          "text": [
            "Enter your age :2\n",
            "You are minor\n"
          ]
        }
      ]
    },
    {
      "cell_type": "markdown",
      "source": [
        "#Boolean Statements"
      ],
      "metadata": {
        "id": "QEZqDyHNGKHF"
      }
    },
    {
      "cell_type": "code",
      "source": [
        "# ==, >, <, !=, >=, <=\n",
        "\n",
        "print(5==5)\n",
        "print(5!=5)\n",
        "print(5<5)\n",
        "print(5<=5)\n",
        "print(5>=5)\n",
        "print(5>5)"
      ],
      "metadata": {
        "colab": {
          "base_uri": "https://localhost:8080/"
        },
        "id": "UogO_iCYGOhm",
        "outputId": "7842add6-f32a-48d7-eb46-cd714c5b38ac"
      },
      "execution_count": 18,
      "outputs": [
        {
          "output_type": "stream",
          "name": "stdout",
          "text": [
            "True\n",
            "False\n",
            "False\n",
            "True\n",
            "True\n",
            "False\n"
          ]
        }
      ]
    },
    {
      "cell_type": "markdown",
      "source": [
        "#Logical Operators"
      ],
      "metadata": {
        "id": "_oCTLUTuHTpm"
      }
    },
    {
      "cell_type": "code",
      "source": [
        "# and or not\n",
        "a = 10\n",
        "b = 5\n",
        "c = 25\n",
        "\n",
        "if a>b and b<c:\n",
        "  print(\"Both are true\")\n",
        "\n",
        "if a<b and b>c:\n",
        " print(\"Both are true\")\n",
        "\n",
        "if a>b or b>c:\n",
        " print(\"Any one is true\")\n",
        "\n",
        "if not (a<b):\n",
        " print(\"checking the value\",a<b)"
      ],
      "metadata": {
        "colab": {
          "base_uri": "https://localhost:8080/"
        },
        "id": "jwtIt8DCHNkm",
        "outputId": "2b4fdbd2-190a-48ca-d58c-49fe3ac98f39"
      },
      "execution_count": 17,
      "outputs": [
        {
          "output_type": "stream",
          "name": "stdout",
          "text": [
            "Both are true\n",
            "Any one is true\n",
            "checking the value False\n"
          ]
        }
      ]
    },
    {
      "cell_type": "markdown",
      "source": [],
      "metadata": {
        "id": "xFteoT5qHRGy"
      }
    },
    {
      "cell_type": "markdown",
      "source": [
        "# Nesting if"
      ],
      "metadata": {
        "id": "MLitbojsJPpP"
      }
    },
    {
      "cell_type": "code",
      "source": [
        "oraganization = input(\"Enter your current Organization :\")\n",
        "if oraganization == \"TIAA\":\n",
        "  print(\"Congratulations, soon you will join Accenture\")\n",
        "elif organization == \"ACCENTURE\":\n",
        "  print(\"Welcome to Accenture.\")\n",
        "else:\n",
        "  print(\"Out of organization, please contact HR team for your experience letter\")\n",
        "\n",
        "\n",
        "\n"
      ],
      "metadata": {
        "colab": {
          "base_uri": "https://localhost:8080/"
        },
        "id": "P9_gtzuTJeWr",
        "outputId": "4a204308-a363-493b-90cd-36b625db88f4"
      },
      "execution_count": 23,
      "outputs": [
        {
          "output_type": "stream",
          "name": "stdout",
          "text": [
            "Enter your current Organization :TIAA\n",
            "Congratulations, soon you will join Accenture\n"
          ]
        }
      ]
    },
    {
      "cell_type": "markdown",
      "source": [],
      "metadata": {
        "id": "VYwJyoqpNYXV"
      }
    },
    {
      "cell_type": "code",
      "source": [
        "string1 = \"TIAA\"\n",
        "string2 = \"tiaa\"\n",
        "\n",
        "# Check if string1 and string2 refer to the same string in memory\n",
        "if string1 is string2:\n",
        "    print(\"The strings are the same string\")\n",
        "else:\n",
        "    print(\"The strings are not the same string\")"
      ],
      "metadata": {
        "colab": {
          "base_uri": "https://localhost:8080/"
        },
        "id": "grPk-b7gNYiF",
        "outputId": "7e1282f2-32da-4b2c-ff32-a805148cdba9"
      },
      "execution_count": 25,
      "outputs": [
        {
          "output_type": "stream",
          "name": "stdout",
          "text": [
            "The strings are not the same string\n"
          ]
        }
      ]
    },
    {
      "cell_type": "code",
      "source": [
        "import locale\n",
        "\n",
        "# Set the locale to en_US.UTF-8\n",
        "locale.setlocale(locale.LC_ALL, 'en_US.UTF-8')\n",
        "\n",
        "# Define two string variables, string1 and string2\n",
        "oraganization = input(\"Enter your current Organization :\")\n",
        "tiaa_comp = \"TIAA\"\n",
        "Acc_copm = \"Accenture\"\n",
        "\n",
        "# Use the strcoll() function to compare string1 and string2\n",
        "if locale.strcoll(tiaa_comp, oraganization) == 0:\n",
        "  print(\"Congratulations, soon you will join Accenture\")\n",
        "elif locale.strcoll(Acc_copm, oraganization) == 0:\n",
        "    print(\"Welcome to Accenture.\")\n",
        "else:\n",
        "   print(\"Out of organization, please contact HR team for your experience letter\")\n"
      ],
      "metadata": {
        "colab": {
          "base_uri": "https://localhost:8080/"
        },
        "id": "p2v1zpN0OIe0",
        "outputId": "fb709ff7-7612-4c0d-fbf4-398121d65cea"
      },
      "execution_count": 26,
      "outputs": [
        {
          "output_type": "stream",
          "name": "stdout",
          "text": [
            "Enter your current Organization :tiaa\n",
            "Out of organization, please contact HR team for your experience letter\n"
          ]
        }
      ]
    }
  ]
}