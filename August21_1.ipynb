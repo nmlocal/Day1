{
  "nbformat": 4,
  "nbformat_minor": 0,
  "metadata": {
    "colab": {
      "provenance": [],
      "authorship_tag": "ABX9TyOf5x4G9oJol9rkpJKCitP4",
      "include_colab_link": true
    },
    "kernelspec": {
      "name": "python3",
      "display_name": "Python 3"
    },
    "language_info": {
      "name": "python"
    }
  },
  "cells": [
    {
      "cell_type": "markdown",
      "metadata": {
        "id": "view-in-github",
        "colab_type": "text"
      },
      "source": [
        "<a href=\"https://colab.research.google.com/github/nmlocal/Day1/blob/main/August21_1.ipynb\" target=\"_parent\"><img src=\"https://colab.research.google.com/assets/colab-badge.svg\" alt=\"Open In Colab\"/></a>"
      ]
    },
    {
      "cell_type": "code",
      "execution_count": 9,
      "metadata": {
        "id": "v7LWJZgJqJ-h"
      },
      "outputs": [],
      "source": []
    },
    {
      "cell_type": "markdown",
      "source": [
        "**Hello World Program **"
      ],
      "metadata": {
        "id": "g0qj4p9nqks4"
      }
    },
    {
      "cell_type": "markdown",
      "source": [
        "#Input Field for a form"
      ],
      "metadata": {
        "id": "E0CO07G6AssD"
      }
    },
    {
      "cell_type": "code",
      "source": [
        "name =input(\"IVY Walkers Members List: \")\n",
        "print(name)"
      ],
      "metadata": {
        "colab": {
          "base_uri": "https://localhost:8080/"
        },
        "id": "QtsqMa2M_kSA",
        "outputId": "6905ba0c-edcc-4b90-806a-3e841913cad0"
      },
      "execution_count": 10,
      "outputs": [
        {
          "output_type": "stream",
          "name": "stdout",
          "text": [
            "IVY Walkers Members List: Guna\n",
            "Guna\n"
          ]
        }
      ]
    },
    {
      "cell_type": "markdown",
      "source": [
        "#Assigning values to dataTypes and print"
      ],
      "metadata": {
        "id": "1p2lquHIA30_"
      }
    },
    {
      "cell_type": "code",
      "source": [
        "apples =5\n",
        "banana = 12\n",
        "smart='guna'\n",
        "print(apples+banana)\n",
        "print(len(smart))"
      ],
      "metadata": {
        "colab": {
          "base_uri": "https://localhost:8080/"
        },
        "id": "0DkE0KXL-OsO",
        "outputId": "401214e6-b36c-4281-8ecd-db23a7367aec"
      },
      "execution_count": 11,
      "outputs": [
        {
          "output_type": "stream",
          "name": "stdout",
          "text": [
            "17\n",
            "4\n"
          ]
        }
      ]
    },
    {
      "cell_type": "markdown",
      "source": [
        "#Converting Datatypes"
      ],
      "metadata": {
        "id": "SSIuf3MRBRAF"
      }
    },
    {
      "cell_type": "code",
      "source": [
        "#String to Number\n",
        "name=\"10\"\n",
        "num1=int(name)\n",
        "print(num1)\n",
        "\n",
        "# Number to String\n",
        "num=50\n",
        "number=str(num)\n",
        "print(number)\n",
        "\n",
        "# Print Datatype\n",
        "print(num, type(num))"
      ],
      "metadata": {
        "colab": {
          "base_uri": "https://localhost:8080/"
        },
        "id": "CryhJqHpAqVU",
        "outputId": "e981dbcc-f4a1-4129-ce21-50fb981ba8ad"
      },
      "execution_count": 16,
      "outputs": [
        {
          "output_type": "stream",
          "name": "stdout",
          "text": [
            "10\n",
            "50\n",
            "50 <class 'int'>\n"
          ]
        }
      ]
    },
    {
      "cell_type": "markdown",
      "source": [
        "#input()/print()"
      ],
      "metadata": {
        "id": "-kMBP4eDCcZS"
      }
    },
    {
      "cell_type": "code",
      "source": [
        "name=input(\"Enter your Group Name :\")\n",
        "print(name)\n",
        "\n",
        "ageGroup=input(\"Enter ageGroup people :\")\n",
        "print(ageGroup)\n",
        "\n",
        "age = int(input(\"Enter your age :\"))\n",
        "print('Iam just',age,'years old')"
      ],
      "metadata": {
        "colab": {
          "base_uri": "https://localhost:8080/"
        },
        "id": "VsMYobrqBJrW",
        "outputId": "93ce0f1e-bc29-4517-826c-1950ae714c8e"
      },
      "execution_count": 20,
      "outputs": [
        {
          "output_type": "stream",
          "name": "stdout",
          "text": [
            "Enter your Group Name :IVY WALKERS\n",
            "IVY WALKERS\n",
            "Enter ageGroup people :29-42\n",
            "29-42\n",
            "Enter your age :29\n",
            "Iam just 29 years old\n"
          ]
        }
      ]
    },
    {
      "cell_type": "markdown",
      "source": [],
      "metadata": {
        "id": "4rfLtCc7CbWt"
      }
    },
    {
      "cell_type": "markdown",
      "source": [
        "#Conditional Statement"
      ],
      "metadata": {
        "id": "iZ4q3lWSEgTF"
      }
    },
    {
      "cell_type": "code",
      "source": [
        "name=input(\"Enter your Group Name :\")\n",
        "print(name)\n",
        "\n",
        "age = int(input(\"Enter your age in between 29-42:\"))\n",
        "\n",
        "if age == 29:\n",
        "  print(name,\" You are the only Youngster from the Group\")\n",
        "\n",
        "if age >29 and age <=37:\n",
        "  print(name,\" You are the middle aged person in the Group\")\n",
        "\n",
        "if age >37:\n",
        "  print(name,\" You are the senior member of the Group\")\n",
        "\n",
        "\n",
        "\n",
        "\n",
        "\n"
      ],
      "metadata": {
        "colab": {
          "base_uri": "https://localhost:8080/"
        },
        "id": "k3-ixEj_EjCf",
        "outputId": "9d6aa07b-3180-409a-899f-1d7b138c752c"
      },
      "execution_count": 21,
      "outputs": [
        {
          "output_type": "stream",
          "name": "stdout",
          "text": [
            "Enter your Group Name :IVY WALKERS\n",
            "IVY WALKERS\n",
            "Enter your age in between 29-42:29\n",
            "IVY WALKERS  You are the only Youngster from the Group\n"
          ]
        }
      ]
    },
    {
      "cell_type": "markdown",
      "source": [
        "#Keyword list"
      ],
      "metadata": {
        "id": "LEDiMZ-_JAHI"
      }
    },
    {
      "cell_type": "code",
      "source": [
        "import keyword\n",
        "print(keyword.kwlist)"
      ],
      "metadata": {
        "colab": {
          "base_uri": "https://localhost:8080/"
        },
        "id": "-IHQSJAZJDGO",
        "outputId": "f18154f4-be91-4fc9-a98a-859cfa7903cf"
      },
      "execution_count": 22,
      "outputs": [
        {
          "output_type": "stream",
          "name": "stdout",
          "text": [
            "['False', 'None', 'True', 'and', 'as', 'assert', 'async', 'await', 'break', 'class', 'continue', 'def', 'del', 'elif', 'else', 'except', 'finally', 'for', 'from', 'global', 'if', 'import', 'in', 'is', 'lambda', 'nonlocal', 'not', 'or', 'pass', 'raise', 'return', 'try', 'while', 'with', 'yield']\n"
          ]
        }
      ]
    }
  ]
}